{
 "cells": [
  {
   "cell_type": "code",
   "execution_count": null,
   "metadata": {},
   "outputs": [],
   "source": [
    "##task1\n",
    "def is_above_5_5(movie):\n",
    "    return movie[\"imdb\"]>5.5\n",
    "\n",
    "movies = [\n",
    "    {\n",
    "        \"name\": \"Usual Suspects\", \n",
    "        \"imdb\": 7.0,\n",
    "        \"category\": \"Thriller\"\n",
    "    },\n",
    "    {\n",
    "        \"name\": \"Movie 2\", \n",
    "        \"imdb\": 5.0,\n",
    "        \"category\": \"Drama\"\n",
    "    }\n",
    "]\n",
    "print(is_above_5_5(movies[0]))"
   ]
  },
  {
   "cell_type": "code",
   "execution_count": null,
   "metadata": {},
   "outputs": [],
   "source": [
    "##task2\n",
    "def filter_above_5_5(movies):\n",
    "    return [movie for movie in movies if movie[\"imdb\"] > 5.5]\n",
    "\n",
    "movies = [\n",
    "    {\"name\": \"Usual Suspects\", \"imdb\": 7.0, \"category\": \"Thriller\"},\n",
    "    {\"name\": \"Movie 2\", \"imdb\": 5.0, \"category\": \"Drama\"},\n",
    "    {\"name\": \"Inception\", \"imdb\": 8.8, \"category\": \"Sci-Fi\"},\n",
    "    {\"name\": \"Low Score Movie\", \"imdb\": 4.5, \"category\": \"Comedy\"}\n",
    "]\n",
    "\n",
    "filtered_movies = filter_above_5_5(movies)\n",
    "print(filtered_movies)"
   ]
  },
  {
   "cell_type": "code",
   "execution_count": null,
   "metadata": {},
   "outputs": [],
   "source": [
    "##task3\n",
    "def filter_by_category(movies, category):\n",
    "    return [movie for movie in movies if movie[\"category\"] == category]\n",
    "\n",
    "movies = [\n",
    "    {\"name\": \"Usual Suspects\", \"imdb\": 7.0, \"category\": \"Thriller\"},\n",
    "    {\"name\": \"Inception\", \"imdb\": 8.8, \"category\": \"Sci-Fi\"},\n",
    "    {\"name\": \"The Dark Knight\", \"imdb\": 9.0, \"category\": \"Action\"},\n",
    "    {\"name\": \"Interstellar\", \"imdb\": 8.6, \"category\": \"Sci-Fi\"},\n",
    "    {\"name\": \"The Matrix\", \"imdb\": 8.7, \"category\": \"Sci-Fi\"}\n",
    "]\n",
    "\n",
    "sci_fi_movies = filter_by_category(movies, \"Sci-Fi\")\n",
    "print(sci_fi_movies)"
   ]
  },
  {
   "cell_type": "code",
   "execution_count": null,
   "metadata": {},
   "outputs": [],
   "source": [
    "##task4\n",
    "def average_imdb_score(movies):\n",
    "    if not movies:  \n",
    "        return 0\n",
    "    total_score = sum(movie[\"imdb\"] for movie in movies)\n",
    "    return total_score / len(movies)\n",
    "\n",
    "movies = [\n",
    "    {\"name\": \"Usual Suspects\", \"imdb\": 7.0, \"category\": \"Thriller\"},\n",
    "    {\"name\": \"Inception\", \"imdb\": 8.8, \"category\": \"Sci-Fi\"},\n",
    "    {\"name\": \"The Dark Knight\", \"imdb\": 9.0, \"category\": \"Action\"},\n",
    "    {\"name\": \"Interstellar\", \"imdb\": 8.6, \"category\": \"Sci-Fi\"},\n",
    "    {\"name\": \"The Matrix\", \"imdb\": 8.7, \"category\": \"Sci-Fi\"}\n",
    "]\n",
    "\n",
    "average_score = average_imdb_score(movies)\n",
    "print(f\"Average IMDB score: {average_score:.2f}\")"
   ]
  },
  {
   "cell_type": "code",
   "execution_count": null,
   "metadata": {},
   "outputs": [],
   "source": [
    "##task5\n",
    "def average_imdb_score_by_category(movies, category):\n",
    "\n",
    "    category_movies = [movie for movie in movies if movie[\"category\"] == category]\n",
    "    \n",
    "    if not category_movies:\n",
    "        return 0\n",
    "    \n",
    "    total_score = sum(movie[\"imdb\"] for movie in category_movies)\n",
    "    return total_score / len(category_movies)\n",
    "\n",
    "movies = [\n",
    "    {\"name\": \"Usual Suspects\", \"imdb\": 7.0, \"category\": \"Thriller\"},\n",
    "    {\"name\": \"Inception\", \"imdb\": 8.8, \"category\": \"Sci-Fi\"},\n",
    "    {\"name\": \"The Dark Knight\", \"imdb\": 9.0, \"category\": \"Action\"},\n",
    "    {\"name\": \"Interstellar\", \"imdb\": 8.6, \"category\": \"Sci-Fi\"},\n",
    "    {\"name\": \"The Matrix\", \"imdb\": 8.7, \"category\": \"Sci-Fi\"}\n",
    "]\n",
    "\n",
    "average_score = average_imdb_score_by_category(movies, \"Sci-Fi\")\n",
    "print(f\"Average IMDB score for Sci-Fi movies: {average_score:.2f}\")\n"
   ]
  }
 ],
 "metadata": {
  "kernelspec": {
   "display_name": "Python 3",
   "language": "python",
   "name": "python3"
  },
  "language_info": {
   "codemirror_mode": {
    "name": "ipython",
    "version": 3
   },
   "file_extension": ".py",
   "mimetype": "text/x-python",
   "name": "python",
   "nbconvert_exporter": "python",
   "pygments_lexer": "ipython3",
   "version": "3.12.3"
  }
 },
 "nbformat": 4,
 "nbformat_minor": 2
}
